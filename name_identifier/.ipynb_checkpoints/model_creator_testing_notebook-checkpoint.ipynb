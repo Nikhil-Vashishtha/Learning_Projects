{
 "cells": [
  {
   "cell_type": "markdown",
   "metadata": {},
   "source": [
    "# importing model_creator class"
   ]
  },
  {
   "cell_type": "code",
   "execution_count": 1,
   "metadata": {},
   "outputs": [
    {
     "name": "stderr",
     "output_type": "stream",
     "text": [
      "Using TensorFlow backend.\n"
     ]
    }
   ],
   "source": [
    "from model_creator import model_creator_class as mcc"
   ]
  },
  {
   "cell_type": "markdown",
   "metadata": {},
   "source": [
    "# creating model_creator class object with:-\n",
    "## 25 epochs\n",
    "## 512 batch size\n",
    "## 0.1 validation split\n",
    "## \"acc\" as accuracy metric\n",
    "## 0.0001 as learning rate"
   ]
  },
  {
   "cell_type": "code",
   "execution_count": 2,
   "metadata": {},
   "outputs": [],
   "source": [
    "mcc1 = mcc(25,512,0.1,\"acc\",0.001)"
   ]
  },
  {
   "cell_type": "markdown",
   "metadata": {},
   "source": [
    "# loading and checking data for model creation"
   ]
  },
  {
   "cell_type": "code",
   "execution_count": 3,
   "metadata": {},
   "outputs": [],
   "source": [
    "dataX = mcc1.data_loader(\"dataX_train_krnl_1.bz2\")\n",
    "dataY = mcc1.data_loader(\"dataY_train_krnl_1.bz2\")"
   ]
  },
  {
   "cell_type": "code",
   "execution_count": 4,
   "metadata": {},
   "outputs": [
    {
     "data": {
      "text/plain": [
       "(1151286, 1, 27)"
      ]
     },
     "execution_count": 4,
     "metadata": {},
     "output_type": "execute_result"
    }
   ],
   "source": [
    "dataX.shape"
   ]
  },
  {
   "cell_type": "code",
   "execution_count": 5,
   "metadata": {},
   "outputs": [
    {
     "data": {
      "text/plain": [
       "(1151286, 27)"
      ]
     },
     "execution_count": 5,
     "metadata": {},
     "output_type": "execute_result"
    }
   ],
   "source": [
    "dataY.shape"
   ]
  },
  {
   "cell_type": "markdown",
   "metadata": {},
   "source": [
    "# running model which saves the models at given checkpoints in moodels folder"
   ]
  },
  {
   "cell_type": "code",
   "execution_count": 6,
   "metadata": {
    "collapsed": true
   },
   "outputs": [
    {
     "name": "stdout",
     "output_type": "stream",
     "text": [
      "Train on 1036157 samples, validate on 115129 samples\n",
      "Epoch 1/25\n",
      "1036157/1036157 [==============================] - 79s 76us/step - loss: 2.1699 - acc: 0.2984 - val_loss: 2.1369 - val_acc: 0.2989\n",
      "\n",
      "Epoch 00001: loss improved from inf to 2.16994, saving model to D:/Chrome_downloads/nobroker_assignment/models/weights_improvement_1_01-2.1699.hdf5\n",
      "Epoch 2/25\n",
      "1036157/1036157 [==============================] - 76s 74us/step - loss: 2.1322 - acc: 0.3004 - val_loss: 2.1339 - val_acc: 0.3033\n",
      "\n",
      "Epoch 00002: loss improved from 2.16994 to 2.13221, saving model to D:/Chrome_downloads/nobroker_assignment/models/weights_improvement_1_02-2.1322.hdf5\n",
      "Epoch 3/25\n",
      "1036157/1036157 [==============================] - 77s 74us/step - loss: 2.1309 - acc: 0.3003 - val_loss: 2.1323 - val_acc: 0.2975\n",
      "\n",
      "Epoch 00003: loss improved from 2.13221 to 2.13089, saving model to D:/Chrome_downloads/nobroker_assignment/models/weights_improvement_1_03-2.1309.hdf5\n",
      "Epoch 4/25\n",
      "1036157/1036157 [==============================] - 75s 72us/step - loss: 2.1303 - acc: 0.3009 - val_loss: 2.1325 - val_acc: 0.2975\n",
      "\n",
      "Epoch 00004: loss improved from 2.13089 to 2.13031, saving model to D:/Chrome_downloads/nobroker_assignment/models/weights_improvement_1_04-2.1303.hdf5\n",
      "Epoch 5/25\n",
      "1036157/1036157 [==============================] - 76s 73us/step - loss: 2.1300 - acc: 0.3002 - val_loss: 2.1328 - val_acc: 0.2974\n",
      "\n",
      "Epoch 00005: loss improved from 2.13031 to 2.13001, saving model to D:/Chrome_downloads/nobroker_assignment/models/weights_improvement_1_05-2.1300.hdf5\n",
      "Epoch 6/25\n",
      "1036157/1036157 [==============================] - 76s 73us/step - loss: 2.1296 - acc: 0.3004 - val_loss: 2.1325 - val_acc: 0.2974\n",
      "\n",
      "Epoch 00006: loss improved from 2.13001 to 2.12963, saving model to D:/Chrome_downloads/nobroker_assignment/models/weights_improvement_1_06-2.1296.hdf5\n",
      "Epoch 7/25\n",
      "1036157/1036157 [==============================] - 74s 72us/step - loss: 2.1294 - acc: 0.3003 - val_loss: 2.1317 - val_acc: 0.3023\n",
      "\n",
      "Epoch 00007: loss improved from 2.12963 to 2.12941, saving model to D:/Chrome_downloads/nobroker_assignment/models/weights_improvement_1_07-2.1294.hdf5\n",
      "Epoch 8/25\n",
      "1036157/1036157 [==============================] - 74s 72us/step - loss: 2.1293 - acc: 0.3006 - val_loss: 2.1320 - val_acc: 0.2962\n",
      "\n",
      "Epoch 00008: loss improved from 2.12941 to 2.12932, saving model to D:/Chrome_downloads/nobroker_assignment/models/weights_improvement_1_08-2.1293.hdf5\n",
      "Epoch 9/25\n",
      "1036157/1036157 [==============================] - 78s 75us/step - loss: 2.1291 - acc: 0.3005 - val_loss: 2.1320 - val_acc: 0.3016\n",
      "\n",
      "Epoch 00009: loss improved from 2.12932 to 2.12909, saving model to D:/Chrome_downloads/nobroker_assignment/models/weights_improvement_1_09-2.1291.hdf5\n",
      "Epoch 10/25\n",
      "1036157/1036157 [==============================] - 79s 76us/step - loss: 2.1291 - acc: 0.3002 - val_loss: 2.1316 - val_acc: 0.3024\n",
      "\n",
      "Epoch 00010: loss improved from 2.12909 to 2.12907, saving model to D:/Chrome_downloads/nobroker_assignment/models/weights_improvement_1_10-2.1291.hdf5\n",
      "Epoch 11/25\n",
      "1036157/1036157 [==============================] - 79s 76us/step - loss: 2.1290 - acc: 0.3009 - val_loss: 2.1317 - val_acc: 0.2962\n",
      "\n",
      "Epoch 00011: loss improved from 2.12907 to 2.12897, saving model to D:/Chrome_downloads/nobroker_assignment/models/weights_improvement_1_11-2.1290.hdf5\n",
      "Epoch 12/25\n",
      "1036157/1036157 [==============================] - 81s 78us/step - loss: 2.1288 - acc: 0.3007 - val_loss: 2.1325 - val_acc: 0.2999\n",
      "\n",
      "Epoch 00012: loss improved from 2.12897 to 2.12884, saving model to D:/Chrome_downloads/nobroker_assignment/models/weights_improvement_1_12-2.1288.hdf5\n",
      "Epoch 13/25\n",
      "1036157/1036157 [==============================] - 82s 79us/step - loss: 2.1287 - acc: 0.3008 - val_loss: 2.1320 - val_acc: 0.3023\n",
      "\n",
      "Epoch 00013: loss improved from 2.12884 to 2.12874, saving model to D:/Chrome_downloads/nobroker_assignment/models/weights_improvement_1_13-2.1287.hdf5\n",
      "Epoch 14/25\n",
      "1036157/1036157 [==============================] - 86s 83us/step - loss: 2.1287 - acc: 0.3009 - val_loss: 2.1312 - val_acc: 0.3027\n",
      "\n",
      "Epoch 00014: loss improved from 2.12874 to 2.12865, saving model to D:/Chrome_downloads/nobroker_assignment/models/weights_improvement_1_14-2.1287.hdf5\n",
      "Epoch 15/25\n",
      "1036157/1036157 [==============================] - 80s 77us/step - loss: 2.1285 - acc: 0.3005 - val_loss: 2.1308 - val_acc: 0.3033\n",
      "\n",
      "Epoch 00015: loss improved from 2.12865 to 2.12853, saving model to D:/Chrome_downloads/nobroker_assignment/models/weights_improvement_1_15-2.1285.hdf5\n",
      "Epoch 16/25\n",
      "1036157/1036157 [==============================] - 82s 79us/step - loss: 2.1284 - acc: 0.3010 - val_loss: 2.1315 - val_acc: 0.3038\n",
      "\n",
      "Epoch 00016: loss improved from 2.12853 to 2.12844, saving model to D:/Chrome_downloads/nobroker_assignment/models/weights_improvement_1_16-2.1284.hdf5\n",
      "Epoch 17/25\n",
      "1036157/1036157 [==============================] - 82s 79us/step - loss: 2.1283 - acc: 0.3008 - val_loss: 2.1314 - val_acc: 0.3016\n",
      "\n",
      "Epoch 00017: loss improved from 2.12844 to 2.12830, saving model to D:/Chrome_downloads/nobroker_assignment/models/weights_improvement_1_17-2.1283.hdf5\n",
      "Epoch 18/25\n",
      "1036157/1036157 [==============================] - 80s 77us/step - loss: 2.1283 - acc: 0.3007 - val_loss: 2.1307 - val_acc: 0.2974\n",
      "\n",
      "Epoch 00018: loss improved from 2.12830 to 2.12827, saving model to D:/Chrome_downloads/nobroker_assignment/models/weights_improvement_1_18-2.1283.hdf5\n",
      "Epoch 19/25\n",
      "1036157/1036157 [==============================] - 80s 78us/step - loss: 2.1281 - acc: 0.3007 - val_loss: 2.1311 - val_acc: 0.2974\n",
      "\n",
      "Epoch 00019: loss improved from 2.12827 to 2.12809, saving model to D:/Chrome_downloads/nobroker_assignment/models/weights_improvement_1_19-2.1281.hdf5\n",
      "Epoch 20/25\n",
      "1036157/1036157 [==============================] - 81s 78us/step - loss: 2.1281 - acc: 0.3006 - val_loss: 2.1310 - val_acc: 0.2990\n",
      "\n",
      "Epoch 00020: loss did not improve from 2.12809\n",
      "Epoch 21/25\n",
      "1036157/1036157 [==============================] - 79s 76us/step - loss: 2.1280 - acc: 0.3010 - val_loss: 2.1304 - val_acc: 0.3033\n",
      "\n",
      "Epoch 00021: loss improved from 2.12809 to 2.12799, saving model to D:/Chrome_downloads/nobroker_assignment/models/weights_improvement_1_21-2.1280.hdf5\n",
      "Epoch 22/25\n",
      "1036157/1036157 [==============================] - 74s 71us/step - loss: 2.1279 - acc: 0.3010 - val_loss: 2.1304 - val_acc: 0.2965\n",
      "\n",
      "Epoch 00022: loss improved from 2.12799 to 2.12794, saving model to D:/Chrome_downloads/nobroker_assignment/models/weights_improvement_1_22-2.1279.hdf5\n",
      "Epoch 23/25\n",
      "1036157/1036157 [==============================] - 74s 71us/step - loss: 2.1279 - acc: 0.3010 - val_loss: 2.1308 - val_acc: 0.2974\n",
      "\n",
      "Epoch 00023: loss improved from 2.12794 to 2.12786, saving model to D:/Chrome_downloads/nobroker_assignment/models/weights_improvement_1_23-2.1279.hdf5\n",
      "Epoch 24/25\n",
      "1036157/1036157 [==============================] - 75s 73us/step - loss: 2.1278 - acc: 0.3007 - val_loss: 2.1306 - val_acc: 0.3048\n",
      "\n",
      "Epoch 00024: loss improved from 2.12786 to 2.12777, saving model to D:/Chrome_downloads/nobroker_assignment/models/weights_improvement_1_24-2.1278.hdf5\n",
      "Epoch 25/25\n",
      "1036157/1036157 [==============================] - 78s 75us/step - loss: 2.1277 - acc: 0.3007 - val_loss: 2.1310 - val_acc: 0.2974\n",
      "\n",
      "Epoch 00025: loss improved from 2.12777 to 2.12771, saving model to D:/Chrome_downloads/nobroker_assignment/models/weights_improvement_1_25-2.1277.hdf5\n"
     ]
    }
   ],
   "source": [
    "mcc1.model(dataX,dataY,1)"
   ]
  },
  {
   "cell_type": "code",
   "execution_count": null,
   "metadata": {},
   "outputs": [],
   "source": []
  }
 ],
 "metadata": {
  "kernelspec": {
   "display_name": "Python 3",
   "language": "python",
   "name": "python3"
  },
  "language_info": {
   "codemirror_mode": {
    "name": "ipython",
    "version": 3
   },
   "file_extension": ".py",
   "mimetype": "text/x-python",
   "name": "python",
   "nbconvert_exporter": "python",
   "pygments_lexer": "ipython3",
   "version": "3.6.6"
  }
 },
 "nbformat": 4,
 "nbformat_minor": 2
}
