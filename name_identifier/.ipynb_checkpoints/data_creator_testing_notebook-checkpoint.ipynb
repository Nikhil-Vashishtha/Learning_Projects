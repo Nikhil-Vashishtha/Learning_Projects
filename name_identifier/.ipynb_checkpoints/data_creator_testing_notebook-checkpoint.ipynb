{
 "cells": [
  {
   "cell_type": "markdown",
   "metadata": {},
   "source": [
    "# importing data_creator class"
   ]
  },
  {
   "cell_type": "code",
   "execution_count": 1,
   "metadata": {},
   "outputs": [
    {
     "name": "stderr",
     "output_type": "stream",
     "text": [
      "Using TensorFlow backend.\n"
     ]
    }
   ],
   "source": [
    "from data_creator import data_creator_class as dcc"
   ]
  },
  {
   "cell_type": "markdown",
   "metadata": {},
   "source": [
    "# defining class object with train to split data into train and test\n",
    "##  here split_ratio is 0.9"
   ]
  },
  {
   "cell_type": "code",
   "execution_count": 2,
   "metadata": {},
   "outputs": [],
   "source": [
    "dcc1 = dcc(0.9)"
   ]
  },
  {
   "cell_type": "markdown",
   "metadata": {},
   "source": [
    "# data split and number of names in training data displayed"
   ]
  },
  {
   "cell_type": "code",
   "execution_count": 3,
   "metadata": {},
   "outputs": [
    {
     "name": "stdout",
     "output_type": "stream",
     "text": [
      "89649\n"
     ]
    }
   ],
   "source": [
    "dcc1.split_data()"
   ]
  },
  {
   "cell_type": "markdown",
   "metadata": {},
   "source": [
    "# data created by slide_kernel of 4 here with seq_in and seq_out method\n",
    "### shape of data printed\n",
    "#### total data in train\n",
    "#### total data in test\n",
    "#### shape of train x data\n",
    "#### shape of train y data\n",
    "#### shape of test x data\n",
    "#### shape of test y data"
   ]
  },
  {
   "cell_type": "code",
   "execution_count": 4,
   "metadata": {},
   "outputs": [
    {
     "name": "stdout",
     "output_type": "stream",
     "text": [
      "1151489\n",
      "127906\n",
      "(1151489, 4, 27)\n",
      "(1151489, 27)\n",
      "(127906, 4, 27)\n",
      "(127906, 27)\n"
     ]
    }
   ],
   "source": [
    "dcc1.create_data(4)"
   ]
  },
  {
   "cell_type": "markdown",
   "metadata": {},
   "source": [
    "# saving all the data"
   ]
  },
  {
   "cell_type": "code",
   "execution_count": 5,
   "metadata": {},
   "outputs": [
    {
     "name": "stdout",
     "output_type": "stream",
     "text": [
      "dataX_train_krnl_4.bz2\n",
      "dataY_train_krnl_4.bz2\n",
      "dataX_test_krnl_4.bz2\n",
      "dataY_test_krnl_4.bz2\n",
      "train_names_dict_krnl_4.bz2\n",
      "train_data_dict_krnl_4.bz2\n",
      "test_names_dict_krnl_4.bz2\n",
      "test_data_dict_krnl_4.bz2\n"
     ]
    }
   ],
   "source": [
    "dcc1.data_saver_all()"
   ]
  },
  {
   "cell_type": "code",
   "execution_count": null,
   "metadata": {},
   "outputs": [],
   "source": []
  }
 ],
 "metadata": {
  "kernelspec": {
   "display_name": "Python 3",
   "language": "python",
   "name": "python3"
  },
  "language_info": {
   "codemirror_mode": {
    "name": "ipython",
    "version": 3
   },
   "file_extension": ".py",
   "mimetype": "text/x-python",
   "name": "python",
   "nbconvert_exporter": "python",
   "pygments_lexer": "ipython3",
   "version": "3.6.6"
  }
 },
 "nbformat": 4,
 "nbformat_minor": 2
}
