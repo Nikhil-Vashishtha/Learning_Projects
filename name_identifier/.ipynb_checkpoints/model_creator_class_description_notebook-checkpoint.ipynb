{
 "cells": [
  {
   "cell_type": "markdown",
   "metadata": {},
   "source": [
    "# importing modules"
   ]
  },
  {
   "cell_type": "code",
   "execution_count": 1,
   "metadata": {},
   "outputs": [],
   "source": [
    "import os\n",
    "import sys\n",
    "import numpy as np\n",
    "import pandas as pd\n",
    "import random\n",
    "import string\n",
    "import pickle\n",
    "import bz2"
   ]
  },
  {
   "cell_type": "markdown",
   "metadata": {},
   "source": [
    "# importing keras and utilities"
   ]
  },
  {
   "cell_type": "code",
   "execution_count": 2,
   "metadata": {},
   "outputs": [
    {
     "name": "stderr",
     "output_type": "stream",
     "text": [
      "Using TensorFlow backend.\n"
     ]
    }
   ],
   "source": [
    "import keras\n",
    "from keras import layers\n",
    "from keras.preprocessing import sequence\n",
    "from keras.models import Sequential\n",
    "from keras.layers import LSTM\n",
    "from keras.optimizers import Adam\n",
    "from keras.layers import Dropout\n",
    "from keras.layers import Dense\n",
    "from keras.callbacks import ModelCheckpoint"
   ]
  },
  {
   "cell_type": "code",
   "execution_count": 2,
   "metadata": {},
   "outputs": [],
   "source": [
    "class model_creator_class():\n",
    "    \"\"\"\n",
    "    model creator class loads data and creates model as per specified hyperparameters\n",
    "    \"\"\"\n",
    "    def __init__(self, epoch, batch_size, val_split, acc_metric,lr):\n",
    "        \"\"\"\n",
    "        init function specifies the paths and loads hyperparameters\n",
    "        \"\"\"\n",
    "        work_path = \"D:/Chrome_downloads/name_identifier/\"\n",
    "        self.model_path = work_path + \"models/\"\n",
    "        self.data_path = work_path + \"data/\"\n",
    "        self.epoch = epoch\n",
    "        self.batch_size = batch_size\n",
    "        self.val_split = val_split\n",
    "        self.accuracy_metric = acc_metric\n",
    "        self.lr = lr\n",
    "        \n",
    "    def data_loader(self, data):\n",
    "        \"\"\"\n",
    "        data_loader function loads data as created by data_creator class\n",
    "        \"\"\"\n",
    "        _read =  bz2.BZ2File(self.data_path + data,\"rb\")\n",
    "        loaded_var_name=pickle.load(_read)\n",
    "        _read.close()\n",
    "        \n",
    "        return loaded_var_name\n",
    "    \n",
    "    def model(self,datax,datay,slide_kernel):\n",
    "        \"\"\"\n",
    "        model class creates and fits model as per specified\n",
    "        \"\"\"\n",
    "        model = Sequential()\n",
    "        model.add(LSTM(256, input_shape=(datax.shape[1], datax.shape[2]),return_sequences=True))\n",
    "#         model.add(Dropout(0.2))\n",
    "        model.add(LSTM(256))\n",
    "        model.add(Dense(datay.shape[1], activation='softmax'))\n",
    "        optimizer = keras.optimizers.Adam(lr=self.lr, decay=0.000001)\n",
    "        model.compile(loss='categorical_crossentropy', optimizer=optimizer,metrics=[self.accuracy_metric])\n",
    "        \n",
    "        filepath=self.model_path + \"weights_improvement_\"+ str(slide_kernel) + \"_{epoch:02d}-{loss:.4f}.hdf5\"\n",
    "        checkpoint = ModelCheckpoint(filepath, monitor='loss', verbose=1, save_best_only=True, mode='min')\n",
    "        callbacks_list = [checkpoint]\n",
    "        model.fit(datax, datay, epochs=self.epoch, batch_size=self.batch_size, validation_split = self.val_split, shuffle = True, callbacks=callbacks_list)\n",
    "        \n",
    "        return None"
   ]
  },
  {
   "cell_type": "code",
   "execution_count": null,
   "metadata": {},
   "outputs": [],
   "source": []
  }
 ],
 "metadata": {
  "kernelspec": {
   "display_name": "Python 3",
   "language": "python",
   "name": "python3"
  },
  "language_info": {
   "codemirror_mode": {
    "name": "ipython",
    "version": 3
   },
   "file_extension": ".py",
   "mimetype": "text/x-python",
   "name": "python",
   "nbconvert_exporter": "python",
   "pygments_lexer": "ipython3",
   "version": "3.6.6"
  }
 },
 "nbformat": 4,
 "nbformat_minor": 2
}
