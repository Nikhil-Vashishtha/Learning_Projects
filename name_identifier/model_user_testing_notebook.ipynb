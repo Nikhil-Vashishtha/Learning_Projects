{
 "cells": [
  {
   "cell_type": "markdown",
   "metadata": {},
   "source": [
    "# importing model_user class"
   ]
  },
  {
   "cell_type": "code",
   "execution_count": 1,
   "metadata": {},
   "outputs": [
    {
     "name": "stderr",
     "output_type": "stream",
     "text": [
      "Using TensorFlow backend.\n"
     ]
    }
   ],
   "source": [
    "from model_user import model_user_class as muc"
   ]
  },
  {
   "cell_type": "markdown",
   "metadata": {},
   "source": [
    "# creating model_user class object with models to be used and slide_kernels required for that model"
   ]
  },
  {
   "cell_type": "code",
   "execution_count": 2,
   "metadata": {},
   "outputs": [],
   "source": [
    "muc1 = muc(\"weights-improvement_1_48-2.1267.hdf5\",1)"
   ]
  },
  {
   "cell_type": "code",
   "execution_count": 3,
   "metadata": {},
   "outputs": [],
   "source": [
    "muc2 = muc(\"weights-improvement_2_50-1.7456.hdf5\",2)"
   ]
  },
  {
   "cell_type": "code",
   "execution_count": 4,
   "metadata": {},
   "outputs": [],
   "source": [
    "muc3 = muc(\"weights-improvement_3_20-1.3175.hdf5\",3)"
   ]
  },
  {
   "cell_type": "markdown",
   "metadata": {},
   "source": [
    "# get_name_pred_prob\n",
    "## calculates probability of word according to model by getting each character probability predicted by model mupltiplied\n",
    "## raka\n",
    "## slide_kernel 1 model: r -> a -> k -> a\n",
    "### prob(a)*prob(k)*prob(a)\n",
    "## slide_kernel 2 model: ra -> k ; ak -> a\n",
    "### prob(k)*prob(a)\n",
    "## slide_kernel 3 model: rak -> a\n",
    "### prob(a)"
   ]
  },
  {
   "cell_type": "code",
   "execution_count": 5,
   "metadata": {},
   "outputs": [
    {
     "data": {
      "text/plain": [
       "0.004962388672254818"
      ]
     },
     "execution_count": 5,
     "metadata": {},
     "output_type": "execute_result"
    }
   ],
   "source": [
    "muc1.get_name_pred_prob(\"raka\")"
   ]
  },
  {
   "cell_type": "code",
   "execution_count": 6,
   "metadata": {},
   "outputs": [
    {
     "data": {
      "text/plain": [
       "0.011759754721341054"
      ]
     },
     "execution_count": 6,
     "metadata": {},
     "output_type": "execute_result"
    }
   ],
   "source": [
    "muc2.get_name_pred_prob(\"raka\")"
   ]
  },
  {
   "cell_type": "code",
   "execution_count": 7,
   "metadata": {},
   "outputs": [
    {
     "data": {
      "text/plain": [
       "0.48617109656333923"
      ]
     },
     "execution_count": 7,
     "metadata": {},
     "output_type": "execute_result"
    }
   ],
   "source": [
    "muc3.get_name_pred_prob(\"raka\")"
   ]
  },
  {
   "cell_type": "markdown",
   "metadata": {},
   "source": [
    "# get_name_pred_info_gain_prob\n",
    "## getting performance metric in terms of information gain per character in name\n",
    "## information_gain = 1-(-prob(character)*log(prob(character)))\n",
    "## information_gain_total_for_name = sum(information_gain)"
   ]
  },
  {
   "cell_type": "code",
   "execution_count": 8,
   "metadata": {},
   "outputs": [
    {
     "name": "stdout",
     "output_type": "stream",
     "text": [
      "0.5385416354984045\n"
     ]
    },
    {
     "data": {
      "text/plain": [
       "0.5385416354984045"
      ]
     },
     "execution_count": 8,
     "metadata": {},
     "output_type": "execute_result"
    }
   ],
   "source": [
    "muc1.get_name_pred_info_gain_prob(\"raka\")"
   ]
  },
  {
   "cell_type": "code",
   "execution_count": 9,
   "metadata": {},
   "outputs": [
    {
     "name": "stdout",
     "output_type": "stream",
     "text": [
      "0.37793925777077675\n"
     ]
    },
    {
     "data": {
      "text/plain": [
       "0.37793925777077675"
      ]
     },
     "execution_count": 9,
     "metadata": {},
     "output_type": "execute_result"
    }
   ],
   "source": [
    "muc2.get_name_pred_info_gain_prob(\"raka\")"
   ]
  },
  {
   "cell_type": "code",
   "execution_count": 10,
   "metadata": {},
   "outputs": [
    {
     "name": "stdout",
     "output_type": "stream",
     "text": [
      "0.16234399378299713\n"
     ]
    },
    {
     "data": {
      "text/plain": [
       "0.16234399378299713"
      ]
     },
     "execution_count": 10,
     "metadata": {},
     "output_type": "execute_result"
    }
   ],
   "source": [
    "muc3.get_name_pred_info_gain_prob(\"raka\")"
   ]
  },
  {
   "cell_type": "markdown",
   "metadata": {},
   "source": [
    "# get_train_inf_gain_accuracy\n",
    "## total_train_inf_gain_accuracy = total names with information_gain_total above threshold / total names"
   ]
  },
  {
   "cell_type": "code",
   "execution_count": 8,
   "metadata": {},
   "outputs": [
    {
     "name": "stdout",
     "output_type": "stream",
     "text": [
      "0.967428526810115\n"
     ]
    },
    {
     "data": {
      "text/plain": [
       "0.967428526810115"
      ]
     },
     "execution_count": 8,
     "metadata": {},
     "output_type": "execute_result"
    }
   ],
   "source": [
    "muc2.get_train_inf_gain_accuracy(\"train_names_dict_krnl_3.bz2\",0.5)"
   ]
  },
  {
   "cell_type": "markdown",
   "metadata": {},
   "source": [
    "# get_train_accuracy\n",
    "## total names above threshold / total names"
   ]
  },
  {
   "cell_type": "code",
   "execution_count": 13,
   "metadata": {},
   "outputs": [
    {
     "name": "stdout",
     "output_type": "stream",
     "text": [
      "0.0007808229874287499\n"
     ]
    },
    {
     "data": {
      "text/plain": [
       "0.0007808229874287499"
      ]
     },
     "execution_count": 13,
     "metadata": {},
     "output_type": "execute_result"
    }
   ],
   "source": [
    "muc2.get_train_accuracy(\"train_names_dict_krnl_3.bz2\",0.25)"
   ]
  },
  {
   "cell_type": "markdown",
   "metadata": {},
   "source": [
    "# accuracy on separate data"
   ]
  },
  {
   "cell_type": "code",
   "execution_count": 9,
   "metadata": {},
   "outputs": [
    {
     "name": "stdout",
     "output_type": "stream",
     "text": [
      "1\n",
      "0.9657699257177274\n"
     ]
    },
    {
     "data": {
      "text/plain": [
       "0.9657699257177274"
      ]
     },
     "execution_count": 9,
     "metadata": {},
     "output_type": "execute_result"
    }
   ],
   "source": [
    "muc2.get_train_inf_gain_accuracy(\"test_names_dict_krnl_3.bz2\",0.5)"
   ]
  },
  {
   "cell_type": "markdown",
   "metadata": {},
   "source": [
    "# Next possible steps\n",
    "## given time and computational power constraints, the first set of models gave low accuracy but baseline was set, models can be improved with hyperparameters tuning of LSTM and optimum slide_kernel\n",
    "## the information gain criterion based loss can be used as custom objective function for optimization"
   ]
  },
  {
   "cell_type": "code",
   "execution_count": null,
   "metadata": {},
   "outputs": [],
   "source": []
  }
 ],
 "metadata": {
  "kernelspec": {
   "display_name": "Python 3",
   "language": "python",
   "name": "python3"
  },
  "language_info": {
   "codemirror_mode": {
    "name": "ipython",
    "version": 3
   },
   "file_extension": ".py",
   "mimetype": "text/x-python",
   "name": "python",
   "nbconvert_exporter": "python",
   "pygments_lexer": "ipython3",
   "version": "3.6.6"
  }
 },
 "nbformat": 4,
 "nbformat_minor": 2
}
